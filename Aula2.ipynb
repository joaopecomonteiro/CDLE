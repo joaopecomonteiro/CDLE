{
 "cells": [
  {
   "cell_type": "code",
   "execution_count": 1,
   "id": "f249b909-870b-43f1-b70b-8c470b51cdbf",
   "metadata": {},
   "outputs": [],
   "source": [
    "import multiprocessing as mp\n",
    "import numpy as np\n",
    "from time import time"
   ]
  },
  {
   "cell_type": "code",
   "execution_count": 2,
   "id": "9d442c3e-5741-42eb-bdef-5bdd6d8cc55b",
   "metadata": {},
   "outputs": [
    {
     "name": "stdout",
     "output_type": "stream",
     "text": [
      "[[8, 8, 3, 7, 7, 0, 4, 2, 5, 2, 2, 2, 1, 0, 8, 4, 0, 9, 6, 2, 4, 1, 5, 3, 4, 4, 3, 7, 1, 1], [7, 7, 0, 2, 9, 9, 3, 2, 5, 8, 1, 0, 7, 6, 2, 0, 8, 2, 5, 1, 8, 1, 5, 4, 2, 8, 3, 5, 0, 9], [3, 6, 3, 4, 7, 6, 3, 9, 0, 4, 4, 5, 7, 6, 6, 2, 4, 2, 7, 1, 6, 6, 0, 7, 2, 3, 5, 4, 2, 4], [3, 7, 9, 0, 0, 5, 9, 6, 6, 5, 6, 4, 7, 3, 9, 2, 3, 8, 7, 1, 5, 9, 3, 0, 6, 2, 3, 4, 8, 9], [8, 5, 2, 7, 5, 9, 0, 9, 8, 6, 2, 0, 5, 3, 2, 3, 6, 4, 1, 3, 1, 4, 8, 8, 2, 2, 7, 2, 1, 2]]\n"
     ]
    }
   ],
   "source": [
    "r = 10\n",
    "m = 5\n",
    "n = 30\n",
    "np.random.seed(100)\n",
    "arr = np.random.randint(0, r, size=[m,n])\n",
    "data = arr.tolist()\n",
    "print(data[:10])\n"
   ]
  },
  {
   "cell_type": "code",
   "execution_count": 3,
   "id": "73984eb6-9d09-40f0-a6be-de6ac2db75ab",
   "metadata": {},
   "outputs": [],
   "source": [
    "def how_many_within_range(row, minimum, maximum):\n",
    "    \"\"\"\n",
    "    Returns how many numbers lie within `maximum` and `minimum` in a given `row`\n",
    "    \"\"\"\n",
    "    count = 0\n",
    "    for num in row:\n",
    "        if num >= minimum and num <= maximum:\n",
    "            count += 1\n",
    "    return count\n"
   ]
  },
  {
   "cell_type": "code",
   "execution_count": 4,
   "id": "7a1667db-7026-49f0-893f-214b08422feb",
   "metadata": {},
   "outputs": [
    {
     "name": "stdout",
     "output_type": "stream",
     "text": [
      "0.0 seconds\n",
      "[14, 13, 18, 14, 13]\n"
     ]
    }
   ],
   "source": [
    "start_time = time()\n",
    "\n",
    "results = []\n",
    "\n",
    "for row in data:\n",
    "    results.append(how_many_within_range(row, 4, 8))\n",
    "\n",
    "print(f\"{time() - start_time} seconds\")\n",
    "print(results[:10])\n"
   ]
  },
  {
   "cell_type": "code",
   "execution_count": 5,
   "id": "624108d7-6226-4b8f-8e15-e5d27d82607e",
   "metadata": {},
   "outputs": [
    {
     "name": "stdout",
     "output_type": "stream",
     "text": [
      "System Information: Windows-10-10.0.22631-SP0\n"
     ]
    }
   ],
   "source": [
    "#!lsb_release -a\n",
    "\n",
    "import platform\n",
    "system_information = platform.platform()\n",
    "print(\"System Information:\", system_information)"
   ]
  },
  {
   "cell_type": "code",
   "execution_count": 6,
   "id": "7a8fafe8-70b3-41d0-9bf5-56471dee7d17",
   "metadata": {},
   "outputs": [
    {
     "name": "stdout",
     "output_type": "stream",
     "text": [
      "System Information: uname_result(system='Windows', node='LAPTOP-N2T85G0T', release='10', version='10.0.22631', machine='AMD64')\n"
     ]
    }
   ],
   "source": [
    "#!uname -a\n",
    "\n",
    "system_information = platform.uname()\n",
    "print(\"System Information:\", system_information)"
   ]
  },
  {
   "cell_type": "code",
   "execution_count": 7,
   "id": "57207dcc-2636-4b62-8c45-e4f648fdf7c5",
   "metadata": {},
   "outputs": [
    {
     "name": "stdout",
     "output_type": "stream",
     "text": [
      "python_version: 3.9.10.final.0 (64 bit)\n",
      "cpuinfo_version: [9, 0, 0]\n",
      "cpuinfo_version_string: 9.0.0\n",
      "arch: X86_64\n",
      "bits: 64\n",
      "count: 8\n",
      "arch_string_raw: AMD64\n",
      "vendor_id_raw: GenuineIntel\n",
      "brand_raw: 11th Gen Intel(R) Core(TM) i7-1165G7 @ 2.80GHz\n",
      "hz_advertised_friendly: 2.8000 GHz\n",
      "hz_actual_friendly: 2.8030 GHz\n",
      "hz_advertised: [2800000000, 0]\n",
      "hz_actual: [2803000000, 0]\n",
      "l2_cache_size: 5242880\n",
      "stepping: 1\n",
      "model: 140\n",
      "family: 6\n",
      "l3_cache_size: 12582912\n",
      "flags: ['3dnow', '3dnowprefetch', 'abm', 'acpi', 'adx', 'aes', 'apic', 'avx', 'avx2', 'avx512bitalg', 'avx512bw', 'avx512cd', 'avx512dq', 'avx512f', 'avx512ifma', 'avx512vbmi', 'avx512vbmi2', 'avx512vl', 'avx512vnni', 'avx512vpopcntdq', 'bmi1', 'bmi2', 'clflush', 'clflushopt', 'clwb', 'cmov', 'cx16', 'cx8', 'de', 'dtes64', 'dts', 'erms', 'est', 'f16c', 'fma', 'fpu', 'fxsr', 'gfni', 'ht', 'hypervisor', 'ia64', 'intel_pt', 'invpcid', 'lahf_lm', 'mca', 'mce', 'mmx', 'monitor', 'movbe', 'msr', 'mtrr', 'osxsave', 'pae', 'pat', 'pbe', 'pcid', 'pclmulqdq', 'pdcm', 'pge', 'pni', 'popcnt', 'pqe', 'pse', 'pse36', 'rdpid', 'rdrnd', 'rdseed', 'sep', 'serial', 'sha', 'smap', 'smep', 'ss', 'sse', 'sse2', 'sse4_1', 'sse4_2', 'ssse3', 'tm', 'tm2', 'tsc', 'tscdeadline', 'umip', 'vaes', 'vme', 'vpclmulqdq', 'x2apic', 'xsave', 'xtpr']\n",
      "l2_cache_line_size: 256\n",
      "l2_cache_associativity: 7\n"
     ]
    }
   ],
   "source": [
    "import cpuinfo\n",
    "\n",
    "info = cpuinfo.get_cpu_info()\n",
    "for key, value in info.items():\n",
    "    print(f\"{key}: {value}\")"
   ]
  },
  {
   "cell_type": "code",
   "execution_count": null,
   "id": "e3da70ca-e709-403e-800a-8c449ac88ef9",
   "metadata": {},
   "outputs": [
    {
     "name": "stdout",
     "output_type": "stream",
     "text": [
      "Num cpus =  8\n",
      "Time to create pool: 0.04736948013305664 seconds\n"
     ]
    }
   ],
   "source": [
    "num_cpus = mp.cpu_count()\n",
    "print('Num cpus = ', num_cpus)\n",
    "\n",
    "start_time = time()\n",
    "\n",
    "pool = mp.Pool(num_cpus)\n",
    "\n",
    "print(f'Time to create pool: {time()-start_time} seconds')\n",
    "\n",
    "results = [pool.apply(how_many_within_range, args=(row, 4, 8)) for row in data]\n",
    "\n",
    "pool.close()\n",
    "\n",
    "print('Total time: ',round(time() - start_time,8), 'seconds')\n",
    "\n",
    "print(results[:10])\n",
    "\n",
    "\n",
    "\n"
   ]
  },
  {
   "cell_type": "code",
   "execution_count": null,
   "id": "3935c0aa-41d4-47c4-9896-0fed3eafc939",
   "metadata": {},
   "outputs": [],
   "source": []
  },
  {
   "cell_type": "code",
   "execution_count": null,
   "id": "6858c25f-f8cd-490b-9566-409f5d2d5cca",
   "metadata": {},
   "outputs": [],
   "source": []
  },
  {
   "cell_type": "code",
   "execution_count": null,
   "id": "103b98b9-bbcf-492e-959a-58322350113d",
   "metadata": {},
   "outputs": [],
   "source": []
  }
 ],
 "metadata": {
  "kernelspec": {
   "display_name": "Python 3 (ipykernel)",
   "language": "python",
   "name": "python3"
  },
  "language_info": {
   "codemirror_mode": {
    "name": "ipython",
    "version": 3
   },
   "file_extension": ".py",
   "mimetype": "text/x-python",
   "name": "python",
   "nbconvert_exporter": "python",
   "pygments_lexer": "ipython3",
   "version": "3.9.10"
  }
 },
 "nbformat": 4,
 "nbformat_minor": 5
}
